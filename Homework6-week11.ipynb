{
 "cells": [
  {
   "cell_type": "markdown",
   "id": "887761b2",
   "metadata": {},
   "source": [
    "# Homework 6 - Week 11"
   ]
  },
  {
   "cell_type": "markdown",
   "id": "fb15e1a8",
   "metadata": {},
   "source": [
    "#### Problem 1\n",
    "\n",
    "**(a)**\n",
    "You are using a Geiger counter to locate a radiation source. Moving around in the room where you believe the source is located, you are recording $50$ counts-per-minute (CPM) at one location. When you move $50 cm$ in one direction, the reading on the Geiger counter increases to $62.5 CPM$. \n",
    "\n",
    "NOTE: You can neglect any background radiation considerations for all parts. \n",
    "\n",
    "Assuming there is nothing in between you and the source, what is the distance to the source?\n",
    "\n",
    "**(b)**\n",
    "What count rate would you measure directly from the source (estimate this by calculating the count rate at $5 cm$).\n",
    "\n",
    "**(c)**\n",
    "If you see that the distance you estimated in part one would put the source on the other side of a concrete wall, does this change your estimate of the position of the source? Would it change your estimate of the count rate you would measure right next to the source (at $5 cm$)? Taking the wall thickness to be $20 cm$, and the linear attenuation coefficient for gamma radiation through concrete to be $0.15/cm$, update your answers for parts (a) and (b) accordingly.\n"
   ]
  },
  {
   "cell_type": "markdown",
   "id": "01ad4ee5",
   "metadata": {},
   "source": [
    "#### Problem 2\n",
    "\n",
    "Remembering that the rule of thumb for counting statistics only applies to total counts, meaning you then need to propogate that uncertainty to get the uncertainty on any CPM values stated, we will now concider how uncertainties would impact our results for problem 1.\n",
    "\n",
    "**(a)**\n",
    "If the estimates for the CPM values measured at each position in the first problem were made by collecting counts over 10 minutes, what is the uncertainty on the two CPM measurements?\n",
    "\n",
    "**(b)**\n",
    "What would be the resulting uncertainty on the distance to the source calculated in part **1.a**?\n",
    "\n",
    "NOTE 1: For $F(x) = C\\sqrt{x}$, the percent uncertainty on $F$ can be determined using $(\\frac{\\sigma_F}{F})^2 \\approx (\\frac{\\sigma_x}{2x})^2$. <br>\n",
    "NOTE 2: NOTE 1 is a good approximation even if you instead have a function that depends on $\\sqrt{x}$ in some non-linear way (e.g. $\\frac{1}{(1-\\sqrt{x})}$). <br>\n",
    "NOTE 3: Similarly, for $F = A/B$ where both $A$ and $B$ have uncertainties, $(\\frac{\\sigma_F}{F})^2 \\approx (\\frac{\\sigma_A}{A})^2 + (\\frac{\\sigma_B}{B})^2$.\n",
    "\n",
    "**(c)**\n",
    "What would be the uncertainty on your calculation of the count-rate from the source (at $5 cm$)?"
   ]
  },
  {
   "cell_type": "markdown",
   "id": "37f73f35",
   "metadata": {},
   "source": [
    "#### Problem 3\n",
    "\n",
    "Please include your lab work here - including all data plots and calculations for the attenuation coefficients for your different materials. This portion of the homework can be copied from your shared lab work."
   ]
  }
 ],
 "metadata": {
  "kernelspec": {
   "display_name": "Python 3 (ipykernel)",
   "language": "python",
   "name": "python3"
  },
  "language_info": {
   "codemirror_mode": {
    "name": "ipython",
    "version": 3
   },
   "file_extension": ".py",
   "mimetype": "text/x-python",
   "name": "python",
   "nbconvert_exporter": "python",
   "pygments_lexer": "ipython3",
   "version": "3.11.5"
  }
 },
 "nbformat": 4,
 "nbformat_minor": 5
}
